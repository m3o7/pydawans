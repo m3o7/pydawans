{
 "metadata": {
  "name": ""
 },
 "nbformat": 3,
 "nbformat_minor": 0,
 "worksheets": [
  {
   "cells": [
    {
     "cell_type": "markdown",
     "metadata": {},
     "source": [
      "# Python\n",
      "\n",
      "For the official python tutorial visit [this site](http://docs.python.org/2/tutorial/index.html). The following examples are supposed to give you a quick glance, so you are up and running within minutes. But there is way more to Python, which is why you should spend some more time playing with the official docs.\n",
      "\n",
      "### hello world"
     ]
    },
    {
     "cell_type": "code",
     "collapsed": false,
     "input": [
      "print 'hello world!'"
     ],
     "language": "python",
     "metadata": {},
     "outputs": [
      {
       "output_type": "stream",
       "stream": "stdout",
       "text": [
        "hello world!\n"
       ]
      }
     ],
     "prompt_number": 1
    },
    {
     "cell_type": "markdown",
     "metadata": {},
     "source": [
      "### [commonly used] built-in datatypes"
     ]
    },
    {
     "cell_type": "code",
     "collapsed": false,
     "input": [
      "a = None              ### None - null - nil etc.\n",
      "b = 0                 ### integer\n",
      "c = 0.0               ### float\n",
      "d = 'test'            ### string\n",
      "e = [1,2,3,4,5]       ### array\n",
      "f = (1,2,3,4,5)       ### tuple - immutable\n",
      "g = {'a':0, 'b':1}    ### dictionary\n",
      "h = set([1,2,3,4])    ### set"
     ],
     "language": "python",
     "metadata": {},
     "outputs": [],
     "prompt_number": 2
    },
    {
     "cell_type": "markdown",
     "metadata": {},
     "source": [
      "### control flow"
     ]
    },
    {
     "cell_type": "code",
     "collapsed": false,
     "input": [
      "### control flow\n",
      "x = True\n",
      "if x:\n",
      "    print 'true'\n",
      "else:\n",
      "    print 'false'"
     ],
     "language": "python",
     "metadata": {},
     "outputs": [
      {
       "output_type": "stream",
       "stream": "stdout",
       "text": [
        "true\n"
       ]
      }
     ],
     "prompt_number": 3
    },
    {
     "cell_type": "code",
     "collapsed": false,
     "input": [
      "### for loop\n",
      "numbers = [3,7,2]\n",
      "for number in numbers:\n",
      "    print number"
     ],
     "language": "python",
     "metadata": {},
     "outputs": [
      {
       "output_type": "stream",
       "stream": "stdout",
       "text": [
        "3\n",
        "7\n",
        "2\n"
       ]
      }
     ],
     "prompt_number": 4
    },
    {
     "cell_type": "code",
     "collapsed": false,
     "input": [
      "### while loop\n",
      "i = 0\n",
      "while True:\n",
      "    print i\n",
      "    i += 1\n",
      "    if i >= 3:\n",
      "        break"
     ],
     "language": "python",
     "metadata": {},
     "outputs": [
      {
       "output_type": "stream",
       "stream": "stdout",
       "text": [
        "0\n",
        "1\n",
        "2\n"
       ]
      }
     ],
     "prompt_number": 5
    },
    {
     "cell_type": "code",
     "collapsed": false,
     "input": [
      "### function\n",
      "def add(a, b):\n",
      "    return a + b\n",
      "\n",
      "print add(4, 5)"
     ],
     "language": "python",
     "metadata": {},
     "outputs": [
      {
       "output_type": "stream",
       "stream": "stdout",
       "text": [
        "9\n"
       ]
      }
     ],
     "prompt_number": 6
    },
    {
     "cell_type": "markdown",
     "metadata": {},
     "source": [
      "### [usefull] built-in functions\n",
      "\n",
      "for a full overview of all built-in functions visit this [python site](http://docs.python.org/2/library/functions.html)."
     ]
    },
    {
     "cell_type": "code",
     "collapsed": false,
     "input": [
      "### length of a list/array\n",
      "a = [1,2,3,4,5]\n",
      "print len(a)\n",
      "\n",
      "### sorting\n",
      "print sorted(a)"
     ],
     "language": "python",
     "metadata": {},
     "outputs": [
      {
       "output_type": "stream",
       "stream": "stdout",
       "text": [
        "5\n",
        "[1, 2, 3, 4, 5]\n"
       ]
      }
     ],
     "prompt_number": 7
    },
    {
     "cell_type": "code",
     "collapsed": false,
     "input": [
      "### help - prints the doc-strings of an object, if given\n",
      "help(object)"
     ],
     "language": "python",
     "metadata": {},
     "outputs": [
      {
       "output_type": "stream",
       "stream": "stdout",
       "text": [
        "Help on class object in module __builtin__:\n",
        "\n",
        "class object\n",
        " |  The most base type\n",
        "\n"
       ]
      }
     ],
     "prompt_number": 8
    },
    {
     "cell_type": "code",
     "collapsed": false,
     "input": [
      "### dir - inspect an objects functions and properties\n",
      "dir(object)"
     ],
     "language": "python",
     "metadata": {},
     "outputs": [
      {
       "metadata": {},
       "output_type": "pyout",
       "prompt_number": 9,
       "text": [
        "['__class__',\n",
        " '__delattr__',\n",
        " '__doc__',\n",
        " '__format__',\n",
        " '__getattribute__',\n",
        " '__hash__',\n",
        " '__init__',\n",
        " '__new__',\n",
        " '__reduce__',\n",
        " '__reduce_ex__',\n",
        " '__repr__',\n",
        " '__setattr__',\n",
        " '__sizeof__',\n",
        " '__str__',\n",
        " '__subclasshook__']"
       ]
      }
     ],
     "prompt_number": 9
    },
    {
     "cell_type": "markdown",
     "metadata": {},
     "source": [
      "### EXERCISE"
     ]
    },
    {
     "cell_type": "code",
     "collapsed": false,
     "input": [
      "\"\"\"Implement a function that returns the largest drop in a list of integers.\n",
      "example: find_largest_drop([5,4,6,2,5,1]) => 5 (6, ..., 1; 6-1=5)\"\"\"\n",
      "\n",
      "def find_largest_drop(numbers):\n",
      "    ### your code goes here...\n",
      "    return None\n",
      "\n",
      "### testing your function\n",
      "from helpers.ex1 import test_largest_drop\n",
      "test_largest_drop(find_largest_drop)"
     ],
     "language": "python",
     "metadata": {},
     "outputs": [
      {
       "output_type": "stream",
       "stream": "stderr",
       "text": [
        "ERROR:root:[6,1] should return 5 (6-1=5)\n"
       ]
      }
     ],
     "prompt_number": 10
    },
    {
     "cell_type": "code",
     "collapsed": false,
     "input": [],
     "language": "python",
     "metadata": {},
     "outputs": []
    }
   ],
   "metadata": {}
  }
 ]
}