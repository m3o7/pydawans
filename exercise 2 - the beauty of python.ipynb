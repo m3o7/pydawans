{
 "metadata": {
  "name": ""
 },
 "nbformat": 3,
 "nbformat_minor": 0,
 "worksheets": [
  {
   "cells": [
    {
     "cell_type": "code",
     "collapsed": false,
     "input": [
      "### for loop over 2-dimensional array\n",
      "mapping = [['a', 2], ['b', 1], ['c', 9]]\n",
      "for letter, number in mapping:\n",
      "    print letter, number"
     ],
     "language": "python",
     "metadata": {},
     "outputs": [
      {
       "output_type": "stream",
       "stream": "stdout",
       "text": [
        "a 2\n",
        "b 1\n",
        "c 9\n"
       ]
      }
     ],
     "prompt_number": 1
    },
    {
     "cell_type": "code",
     "collapsed": false,
     "input": [
      "### for loop with enumerator\n",
      "letters = ['a', 'b', 'd', 'a', 'x', 'w']\n",
      "for index, letter in enumerate(letters):\n",
      "    print index, letter"
     ],
     "language": "python",
     "metadata": {},
     "outputs": [
      {
       "output_type": "stream",
       "stream": "stdout",
       "text": [
        "0 a\n",
        "1 b\n",
        "2 d\n",
        "3 a\n",
        "4 x\n",
        "5 w\n"
       ]
      }
     ],
     "prompt_number": 2
    },
    {
     "cell_type": "code",
     "collapsed": false,
     "input": [
      "### function with positional arguments\n",
      "def add_2(*numbers):\n",
      "    _sum = 0\n",
      "    for number in numbers:\n",
      "        _sum += number\n",
      "    return _sum\n",
      "\n",
      "print add_2(2, 3, 4, 5, 6, 7)"
     ],
     "language": "python",
     "metadata": {},
     "outputs": [
      {
       "output_type": "stream",
       "stream": "stdout",
       "text": [
        "27\n"
       ]
      }
     ],
     "prompt_number": 3
    },
    {
     "cell_type": "code",
     "collapsed": false,
     "input": [
      "### functions with keyword arguments\n",
      "def dictionary_creator(**numbers):\n",
      "    _new_dict = {}\n",
      "    for key, value in numbers.iteritems():\n",
      "        _new_dict[key] = value\n",
      "    return _new_dict\n",
      "\n",
      "print dictionary_creator(a=1, b=2, c=3)"
     ],
     "language": "python",
     "metadata": {},
     "outputs": [
      {
       "output_type": "stream",
       "stream": "stdout",
       "text": [
        "{'a': 1, 'c': 3, 'b': 2}\n"
       ]
      }
     ],
     "prompt_number": 4
    },
    {
     "cell_type": "markdown",
     "metadata": {},
     "source": [
      "### in-line magic"
     ]
    },
    {
     "cell_type": "code",
     "collapsed": false,
     "input": [
      "### list comprehension\n",
      "a = [x for x in range(10) if x %]"
     ],
     "language": "python",
     "metadata": {},
     "outputs": []
    }
   ],
   "metadata": {}
  }
 ]
}